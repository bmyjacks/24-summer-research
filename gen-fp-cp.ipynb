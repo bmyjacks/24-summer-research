{
 "cells": [
  {
   "cell_type": "code",
   "id": "initial_id",
   "metadata": {
    "collapsed": true
   },
   "source": [
    "import pandas as pd\n",
    "from rdkit import Chem\n",
    "from rdkit.Chem import rdFingerprintGenerator\n",
    "from tqdm import tqdm"
   ],
   "outputs": [],
   "execution_count": null
  },
  {
   "metadata": {},
   "cell_type": "code",
   "source": [
    "def gen_fingerprint(smiles, gen):\n",
    "    mol = Chem.MolFromSmiles(smiles)\n",
    "    return list(gen.GetCountFingerprint(mol))"
   ],
   "id": "3ac9a10a219c9dd7",
   "outputs": [],
   "execution_count": null
  },
  {
   "metadata": {},
   "cell_type": "code",
   "source": [
    "def gen_fingerprint_file(smiles_path, fp_path):\n",
    "    generator = rdFingerprintGenerator.GetRDKitFPGenerator(fpSize=2048)\n",
    "\n",
    "    smiles = pd.read_csv(smiles_path)\n",
    "\n",
    "    tqdm.pandas()\n",
    "    smiles['rdk'] = smiles['canonical_smiles'].progress_apply(gen_fingerprint, gen=generator)\n",
    "    rdk = pd.DataFrame(smiles['rdk'].tolist())\n",
    "    rdk.to_csv(fp_path, index=False, header=False)"
   ],
   "id": "6d674b85fc54a7d1",
   "outputs": [],
   "execution_count": null
  },
  {
   "metadata": {},
   "cell_type": "code",
   "source": [
    "def gen_descriptors_file(filename, cp_path):\n",
    "    pass\n",
    "    descriptors = pd.read_csv(filename)\n",
    "    headers = pd.read_csv('data/descriptors.csv').columns.tolist()\n",
    "    descriptors = descriptors[headers]\n",
    "    descriptors.to_csv(cp_path, index=False, header=False)"
   ],
   "id": "4fc5e56705944a9a",
   "outputs": [],
   "execution_count": null
  },
  {
   "metadata": {},
   "cell_type": "code",
   "source": [
    "# Example\n",
    "# smiles.csv contains canonical_smiles header and smiles in that column\n",
    "gen_fingerprint_file('smiles.csv', 'fp.csv')"
   ],
   "id": "e465d8df5f9d852a",
   "outputs": [],
   "execution_count": null
  },
  {
   "metadata": {},
   "cell_type": "code",
   "source": [
    "# smiles.smi only contains smiles\n",
    "!python -m mordred smiles.smi -s -o descriptors.csv"
   ],
   "id": "f5388c29cdadbcc0",
   "outputs": [],
   "execution_count": null
  },
  {
   "metadata": {},
   "cell_type": "code",
   "source": "gen_descriptors_file('descriptors.csv', 'cleared_descriptors.csv')",
   "id": "f21d3a51c5d9674a",
   "outputs": [],
   "execution_count": null
  },
  {
   "metadata": {},
   "cell_type": "code",
   "source": "",
   "id": "d07be7f05943e10a",
   "outputs": [],
   "execution_count": null
  }
 ],
 "metadata": {
  "kernelspec": {
   "display_name": "Python 3",
   "language": "python",
   "name": "python3"
  },
  "language_info": {
   "codemirror_mode": {
    "name": "ipython",
    "version": 2
   },
   "file_extension": ".py",
   "mimetype": "text/x-python",
   "name": "python",
   "nbconvert_exporter": "python",
   "pygments_lexer": "ipython2",
   "version": "2.7.6"
  }
 },
 "nbformat": 4,
 "nbformat_minor": 5
}
