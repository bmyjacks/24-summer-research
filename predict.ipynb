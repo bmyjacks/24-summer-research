{
 "cells": [
  {
   "cell_type": "code",
   "id": "initial_id",
   "metadata": {
    "collapsed": true
   },
   "source": [
    "import pandas as pd\n",
    "import torch\n",
    "\n",
    "from model import GeneExpressionPredictionModel"
   ],
   "outputs": [],
   "execution_count": null
  },
  {
   "metadata": {},
   "cell_type": "code",
   "source": [
    "device = torch.device('cuda' if torch.cuda.is_available() else 'cpu')\n",
    "print(device)"
   ],
   "id": "33cad63527cda0e",
   "outputs": [],
   "execution_count": null
  },
  {
   "metadata": {},
   "cell_type": "code",
   "source": [
    "model = GeneExpressionPredictionModel().to(device)\n",
    "model.load_state_dict(torch.load('model.pt', weights_only=True))\n",
    "model.eval()"
   ],
   "id": "d50c7cd9bb413a57",
   "outputs": [],
   "execution_count": null
  },
  {
   "metadata": {},
   "cell_type": "code",
   "source": [
    "def predict(fp, cp):\n",
    "    # fp: np.array, shape=(n_samples, 2048)\n",
    "    # cp: np.array, shape=(n_samples, 985)\n",
    "\n",
    "    with torch.inference_mode():\n",
    "        fp = torch.tensor(fp, dtype=torch.float32).to(device)\n",
    "        cp = torch.tensor(cp, dtype=torch.float32).to(device)\n",
    "        return model(fp, cp).detach().cpu().numpy()  # shape=(n_samples, 978)"
   ],
   "id": "3f21c1555c3c05b5",
   "outputs": [],
   "execution_count": null
  },
  {
   "metadata": {},
   "cell_type": "code",
   "source": [
    "# Example\n",
    "fp = pd.read_csv('data/fingerprints.csv').values[:10]\n",
    "cp = pd.read_csv('data/descriptors.csv').values[:10]\n",
    "\n",
    "predict_gene = predict(fp, cp)"
   ],
   "id": "8052053324fb4411",
   "outputs": [],
   "execution_count": null
  },
  {
   "metadata": {},
   "cell_type": "code",
   "source": "",
   "id": "89b67ae972169ff3",
   "outputs": [],
   "execution_count": null
  }
 ],
 "metadata": {
  "kernelspec": {
   "display_name": "Python 3",
   "language": "python",
   "name": "python3"
  },
  "language_info": {
   "codemirror_mode": {
    "name": "ipython",
    "version": 2
   },
   "file_extension": ".py",
   "mimetype": "text/x-python",
   "name": "python",
   "nbconvert_exporter": "python",
   "pygments_lexer": "ipython2",
   "version": "2.7.6"
  }
 },
 "nbformat": 4,
 "nbformat_minor": 5
}
